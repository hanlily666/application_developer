{
 "cells": [
  {
   "cell_type": "code",
   "execution_count": 1,
   "metadata": {
    "ExecuteTime": {
     "end_time": "2024-10-01T19:20:12.851455Z",
     "start_time": "2024-10-01T19:20:12.848692Z"
    },
    "collapsed": true
   },
   "outputs": [],
   "source": [
    "import json\n",
    "from datetime import datetime\n",
    "import pandas as pd"
   ]
  },
  {
   "cell_type": "markdown",
   "metadata": {},
   "source": [
    "## Read File"
   ]
  },
  {
   "cell_type": "code",
   "execution_count": 2,
   "metadata": {
    "ExecuteTime": {
     "end_time": "2024-10-01T16:13:54.827596Z",
     "start_time": "2024-10-01T16:13:54.798748Z"
    },
    "collapsed": false
   },
   "outputs": [],
   "source": [
    "with open('trainings (correct).txt') as file:\n",
    "    data = json.load(file)"
   ]
  },
  {
   "cell_type": "markdown",
   "metadata": {
    "collapsed": false
   },
   "source": [
    "### List each completed training with a count of how many people have completed that training."
   ]
  },
  {
   "cell_type": "code",
   "execution_count": 3,
   "metadata": {
    "ExecuteTime": {
     "end_time": "2024-09-30T22:04:56.136347Z",
     "start_time": "2024-09-30T22:04:56.119167Z"
    },
    "collapsed": false
   },
   "outputs": [
    {
     "data": {
      "text/html": [
       "<div>\n",
       "<style scoped>\n",
       "    .dataframe tbody tr th:only-of-type {\n",
       "        vertical-align: middle;\n",
       "    }\n",
       "\n",
       "    .dataframe tbody tr th {\n",
       "        vertical-align: top;\n",
       "    }\n",
       "\n",
       "    .dataframe thead th {\n",
       "        text-align: right;\n",
       "    }\n",
       "</style>\n",
       "<table border=\"1\" class=\"dataframe\">\n",
       "  <thead>\n",
       "    <tr style=\"text-align: right;\">\n",
       "      <th></th>\n",
       "      <th>name</th>\n",
       "      <th>completions</th>\n",
       "    </tr>\n",
       "  </thead>\n",
       "  <tbody>\n",
       "    <tr>\n",
       "      <th>0</th>\n",
       "      <td>Jaelyn Quinn</td>\n",
       "      <td>[{'name': 'Electrical Safety for Labs', 'times...</td>\n",
       "    </tr>\n",
       "    <tr>\n",
       "      <th>1</th>\n",
       "      <td>Asia Duke</td>\n",
       "      <td>[{'name': 'X-Ray Safety', 'timestamp': '9/1/20...</td>\n",
       "    </tr>\n",
       "    <tr>\n",
       "      <th>2</th>\n",
       "      <td>Cason Gross</td>\n",
       "      <td>[{'name': 'Using Hazardous Chemicals in an Ani...</td>\n",
       "    </tr>\n",
       "    <tr>\n",
       "      <th>3</th>\n",
       "      <td>Hector Dixon</td>\n",
       "      <td>[{'name': 'Awareness Training for the Transpor...</td>\n",
       "    </tr>\n",
       "    <tr>\n",
       "      <th>4</th>\n",
       "      <td>Josephine Cantrell</td>\n",
       "      <td>[{'name': 'Transportation of Infectious Substa...</td>\n",
       "    </tr>\n",
       "    <tr>\n",
       "      <th>...</th>\n",
       "      <td>...</td>\n",
       "      <td>...</td>\n",
       "    </tr>\n",
       "    <tr>\n",
       "      <th>995</th>\n",
       "      <td>Shaylee Ware</td>\n",
       "      <td>[{'name': 'Physical Science Responsible Conduc...</td>\n",
       "    </tr>\n",
       "    <tr>\n",
       "      <th>996</th>\n",
       "      <td>Jayda Roman</td>\n",
       "      <td>[{'name': 'Occupational Exposure to Bloodborne...</td>\n",
       "    </tr>\n",
       "    <tr>\n",
       "      <th>997</th>\n",
       "      <td>America Franco</td>\n",
       "      <td>[{'name': 'Understanding Biosafety', 'timestam...</td>\n",
       "    </tr>\n",
       "    <tr>\n",
       "      <th>998</th>\n",
       "      <td>Paxton Foley</td>\n",
       "      <td>[{'name': 'Understanding Biosafety', 'timestam...</td>\n",
       "    </tr>\n",
       "    <tr>\n",
       "      <th>999</th>\n",
       "      <td>Jadon Harrell</td>\n",
       "      <td>[{'name': 'Physical Science Responsible Conduc...</td>\n",
       "    </tr>\n",
       "  </tbody>\n",
       "</table>\n",
       "<p>1000 rows × 2 columns</p>\n",
       "</div>"
      ],
      "text/plain": [
       "                   name                                        completions\n",
       "0          Jaelyn Quinn  [{'name': 'Electrical Safety for Labs', 'times...\n",
       "1             Asia Duke  [{'name': 'X-Ray Safety', 'timestamp': '9/1/20...\n",
       "2           Cason Gross  [{'name': 'Using Hazardous Chemicals in an Ani...\n",
       "3          Hector Dixon  [{'name': 'Awareness Training for the Transpor...\n",
       "4    Josephine Cantrell  [{'name': 'Transportation of Infectious Substa...\n",
       "..                  ...                                                ...\n",
       "995        Shaylee Ware  [{'name': 'Physical Science Responsible Conduc...\n",
       "996         Jayda Roman  [{'name': 'Occupational Exposure to Bloodborne...\n",
       "997      America Franco  [{'name': 'Understanding Biosafety', 'timestam...\n",
       "998        Paxton Foley  [{'name': 'Understanding Biosafety', 'timestam...\n",
       "999       Jadon Harrell  [{'name': 'Physical Science Responsible Conduc...\n",
       "\n",
       "[1000 rows x 2 columns]"
      ]
     },
     "execution_count": 3,
     "metadata": {},
     "output_type": "execute_result"
    }
   ],
   "source": [
    "# Conver the json file to data frame in Pandas format\n",
    "df = pd.DataFrame(data)\n",
    "df"
   ]
  },
  {
   "cell_type": "code",
   "execution_count": 4,
   "metadata": {
    "ExecuteTime": {
     "end_time": "2024-10-01T16:18:59.193906Z",
     "start_time": "2024-10-01T16:18:59.181422Z"
    },
    "collapsed": false
   },
   "outputs": [],
   "source": [
    "# Normalize the dataframe for 'completions' column which is a nested list of dictionary\n",
    "df = pd.json_normalize(data, record_path='completions', record_prefix='training_', meta=['name'])"
   ]
  },
  {
   "cell_type": "code",
   "execution_count": 5,
   "metadata": {
    "ExecuteTime": {
     "end_time": "2024-10-01T16:18:59.668896Z",
     "start_time": "2024-10-01T16:18:59.661520Z"
    },
    "collapsed": false
   },
   "outputs": [
    {
     "data": {
      "text/html": [
       "<div>\n",
       "<style scoped>\n",
       "    .dataframe tbody tr th:only-of-type {\n",
       "        vertical-align: middle;\n",
       "    }\n",
       "\n",
       "    .dataframe tbody tr th {\n",
       "        vertical-align: top;\n",
       "    }\n",
       "\n",
       "    .dataframe thead th {\n",
       "        text-align: right;\n",
       "    }\n",
       "</style>\n",
       "<table border=\"1\" class=\"dataframe\">\n",
       "  <thead>\n",
       "    <tr style=\"text-align: right;\">\n",
       "      <th></th>\n",
       "      <th>training_name</th>\n",
       "      <th>training_timestamp</th>\n",
       "      <th>training_expires</th>\n",
       "      <th>name</th>\n",
       "    </tr>\n",
       "  </thead>\n",
       "  <tbody>\n",
       "    <tr>\n",
       "      <th>0</th>\n",
       "      <td>Electrical Safety for Labs</td>\n",
       "      <td>8/31/2022</td>\n",
       "      <td>None</td>\n",
       "      <td>Jaelyn Quinn</td>\n",
       "    </tr>\n",
       "    <tr>\n",
       "      <th>1</th>\n",
       "      <td>Safe Handling of Human Cell Lines/Materials in...</td>\n",
       "      <td>10/30/2023</td>\n",
       "      <td>None</td>\n",
       "      <td>Jaelyn Quinn</td>\n",
       "    </tr>\n",
       "    <tr>\n",
       "      <th>2</th>\n",
       "      <td>Awareness Training for the Transport of Hazard...</td>\n",
       "      <td>10/5/2023</td>\n",
       "      <td>None</td>\n",
       "      <td>Jaelyn Quinn</td>\n",
       "    </tr>\n",
       "    <tr>\n",
       "      <th>3</th>\n",
       "      <td>X-Ray Safety</td>\n",
       "      <td>4/8/2023</td>\n",
       "      <td>None</td>\n",
       "      <td>Jaelyn Quinn</td>\n",
       "    </tr>\n",
       "    <tr>\n",
       "      <th>4</th>\n",
       "      <td>X-Ray Safety</td>\n",
       "      <td>9/1/2022</td>\n",
       "      <td>None</td>\n",
       "      <td>Asia Duke</td>\n",
       "    </tr>\n",
       "    <tr>\n",
       "      <th>...</th>\n",
       "      <td>...</td>\n",
       "      <td>...</td>\n",
       "      <td>...</td>\n",
       "      <td>...</td>\n",
       "    </tr>\n",
       "    <tr>\n",
       "      <th>2962</th>\n",
       "      <td>Physical Science Responsible Conduct of Resear...</td>\n",
       "      <td>6/10/2023</td>\n",
       "      <td>None</td>\n",
       "      <td>Jadon Harrell</td>\n",
       "    </tr>\n",
       "    <tr>\n",
       "      <th>2963</th>\n",
       "      <td>Animal Care And Use Risk Assessment</td>\n",
       "      <td>8/22/2023</td>\n",
       "      <td>8/21/2024</td>\n",
       "      <td>Jadon Harrell</td>\n",
       "    </tr>\n",
       "    <tr>\n",
       "      <th>2964</th>\n",
       "      <td>OHS Training</td>\n",
       "      <td>3/14/2022</td>\n",
       "      <td>3/14/2023</td>\n",
       "      <td>Jadon Harrell</td>\n",
       "    </tr>\n",
       "    <tr>\n",
       "      <th>2965</th>\n",
       "      <td>Occupational Exposure to Bloodborne Pathogens</td>\n",
       "      <td>11/3/2022</td>\n",
       "      <td>11/3/2023</td>\n",
       "      <td>Jadon Harrell</td>\n",
       "    </tr>\n",
       "    <tr>\n",
       "      <th>2966</th>\n",
       "      <td>Occupational Exposure to Bloodborne Pathogens</td>\n",
       "      <td>2/5/2022</td>\n",
       "      <td>None</td>\n",
       "      <td>Jadon Harrell</td>\n",
       "    </tr>\n",
       "  </tbody>\n",
       "</table>\n",
       "<p>2967 rows × 4 columns</p>\n",
       "</div>"
      ],
      "text/plain": [
       "                                          training_name training_timestamp  \\\n",
       "0                            Electrical Safety for Labs          8/31/2022   \n",
       "1     Safe Handling of Human Cell Lines/Materials in...         10/30/2023   \n",
       "2     Awareness Training for the Transport of Hazard...          10/5/2023   \n",
       "3                                          X-Ray Safety           4/8/2023   \n",
       "4                                          X-Ray Safety           9/1/2022   \n",
       "...                                                 ...                ...   \n",
       "2962  Physical Science Responsible Conduct of Resear...          6/10/2023   \n",
       "2963                Animal Care And Use Risk Assessment          8/22/2023   \n",
       "2964                                       OHS Training          3/14/2022   \n",
       "2965      Occupational Exposure to Bloodborne Pathogens          11/3/2022   \n",
       "2966      Occupational Exposure to Bloodborne Pathogens           2/5/2022   \n",
       "\n",
       "     training_expires           name  \n",
       "0                None   Jaelyn Quinn  \n",
       "1                None   Jaelyn Quinn  \n",
       "2                None   Jaelyn Quinn  \n",
       "3                None   Jaelyn Quinn  \n",
       "4                None      Asia Duke  \n",
       "...               ...            ...  \n",
       "2962             None  Jadon Harrell  \n",
       "2963        8/21/2024  Jadon Harrell  \n",
       "2964        3/14/2023  Jadon Harrell  \n",
       "2965        11/3/2023  Jadon Harrell  \n",
       "2966             None  Jadon Harrell  \n",
       "\n",
       "[2967 rows x 4 columns]"
      ]
     },
     "execution_count": 5,
     "metadata": {},
     "output_type": "execute_result"
    }
   ],
   "source": [
    "df"
   ]
  },
  {
   "cell_type": "code",
   "execution_count": 6,
   "metadata": {
    "ExecuteTime": {
     "end_time": "2024-10-01T19:13:23.035331Z",
     "start_time": "2024-10-01T19:13:23.025727Z"
    },
    "collapsed": false
   },
   "outputs": [],
   "source": [
    "# Print the number of people who have completed the training (only considering as one count if a person completes the training more than once).\n",
    "result_1 = df.groupby('training_name')['name'].nunique().to_dict()"
   ]
  },
  {
   "cell_type": "code",
   "execution_count": 7,
   "metadata": {},
   "outputs": [],
   "source": [
    "with open('output_1_training_count.json', 'w') as outfile:\n",
    "    json.dump(result_1, outfile, indent=4)"
   ]
  },
  {
   "cell_type": "markdown",
   "metadata": {},
   "source": [
    "### Given a list of trainings and a fiscal year (defined as 7/1/n-1 – 6/30/n), for each specified training, list all people that completed that training in the specified fiscal year.\n",
    "* Use parameters: Trainings = \"Electrical Safety for Labs\", \"X-Ray Safety\", \"Laboratory Safety Training\"; Fiscal Year = 2024"
   ]
  },
  {
   "cell_type": "code",
   "execution_count": 8,
   "metadata": {
    "ExecuteTime": {
     "end_time": "2024-10-01T19:44:12.034960Z",
     "start_time": "2024-10-01T19:44:12.032361Z"
    },
    "collapsed": false
   },
   "outputs": [],
   "source": [
    "# Convert the 'training_timestamp to datetime format\n",
    "df['training_timestamp'] = pd.to_datetime(df['training_timestamp'], format=\"%m/%d/%Y\")"
   ]
  },
  {
   "cell_type": "code",
   "execution_count": 9,
   "metadata": {
    "ExecuteTime": {
     "end_time": "2024-10-01T19:42:04.927971Z",
     "start_time": "2024-10-01T19:42:04.922278Z"
    },
    "collapsed": false
   },
   "outputs": [],
   "source": [
    "# Given the parameter year\n",
    "parameter_year = 2024"
   ]
  },
  {
   "cell_type": "code",
   "execution_count": 10,
   "metadata": {
    "ExecuteTime": {
     "end_time": "2024-10-01T19:46:50.895247Z",
     "start_time": "2024-10-01T19:46:50.888616Z"
    },
    "collapsed": false
   },
   "outputs": [],
   "source": [
    "# Specify the start and end date\n",
    "start_date = datetime(parameter_year - 1, 7, 1)\n",
    "end_date = datetime(parameter_year, 6, 30)\n",
    "# Filter the dataframe based on the start and end date \n",
    "filtered_df = df[(df['training_timestamp'] >= start_date) &\n",
    "(df['training_timestamp'] <= end_date)]\n"
   ]
  },
  {
   "cell_type": "code",
   "execution_count": 11,
   "metadata": {},
   "outputs": [],
   "source": [
    "trainings_of_interest = [\"Electrical Safety for Labs\", \"X-Ray Safety\", \"Laboratory Safety Training\"]\n",
    "df_filtered = filtered_df[filtered_df['training_name'].isin(trainings_of_interest)]\n",
    "result_2 = df_filtered.groupby('training_name')['name'].unique()\n",
    "# Convert the lists of names to lists of dictionaries with a \"name\" key\n",
    "result_2_serializable = {k: {\"name\": \", \".join(v)} for k, v in result_2.items()}\n",
    "\n",
    "with open('output_2_training_names.json', 'w') as outfile:\n",
    "    json.dump(result_2_serializable, outfile, indent=4)"
   ]
  },
  {
   "cell_type": "markdown",
   "metadata": {},
   "source": [
    "### Given a date, find all people that have any completed trainings that have already expired, or will expire within one month of the specified date (A training is considered expired the day after its expiration date). For each person found, list each completed training that met the previous criteria, with an additional field to indicate expired vs expires soon.\n",
    "* Use date: Oct 1st, 2023"
   ]
  },
  {
   "cell_type": "code",
   "execution_count": 12,
   "metadata": {},
   "outputs": [
    {
     "data": {
      "text/html": [
       "<div>\n",
       "<style scoped>\n",
       "    .dataframe tbody tr th:only-of-type {\n",
       "        vertical-align: middle;\n",
       "    }\n",
       "\n",
       "    .dataframe tbody tr th {\n",
       "        vertical-align: top;\n",
       "    }\n",
       "\n",
       "    .dataframe thead th {\n",
       "        text-align: right;\n",
       "    }\n",
       "</style>\n",
       "<table border=\"1\" class=\"dataframe\">\n",
       "  <thead>\n",
       "    <tr style=\"text-align: right;\">\n",
       "      <th></th>\n",
       "      <th>training_name</th>\n",
       "      <th>training_timestamp</th>\n",
       "      <th>training_expires</th>\n",
       "      <th>name</th>\n",
       "    </tr>\n",
       "  </thead>\n",
       "  <tbody>\n",
       "    <tr>\n",
       "      <th>0</th>\n",
       "      <td>Electrical Safety for Labs</td>\n",
       "      <td>2022-08-31</td>\n",
       "      <td>NaT</td>\n",
       "      <td>Jaelyn Quinn</td>\n",
       "    </tr>\n",
       "    <tr>\n",
       "      <th>1</th>\n",
       "      <td>Safe Handling of Human Cell Lines/Materials in...</td>\n",
       "      <td>2023-10-30</td>\n",
       "      <td>NaT</td>\n",
       "      <td>Jaelyn Quinn</td>\n",
       "    </tr>\n",
       "    <tr>\n",
       "      <th>2</th>\n",
       "      <td>Awareness Training for the Transport of Hazard...</td>\n",
       "      <td>2023-10-05</td>\n",
       "      <td>NaT</td>\n",
       "      <td>Jaelyn Quinn</td>\n",
       "    </tr>\n",
       "    <tr>\n",
       "      <th>3</th>\n",
       "      <td>X-Ray Safety</td>\n",
       "      <td>2023-04-08</td>\n",
       "      <td>NaT</td>\n",
       "      <td>Jaelyn Quinn</td>\n",
       "    </tr>\n",
       "    <tr>\n",
       "      <th>4</th>\n",
       "      <td>X-Ray Safety</td>\n",
       "      <td>2022-09-01</td>\n",
       "      <td>NaT</td>\n",
       "      <td>Asia Duke</td>\n",
       "    </tr>\n",
       "    <tr>\n",
       "      <th>...</th>\n",
       "      <td>...</td>\n",
       "      <td>...</td>\n",
       "      <td>...</td>\n",
       "      <td>...</td>\n",
       "    </tr>\n",
       "    <tr>\n",
       "      <th>2962</th>\n",
       "      <td>Physical Science Responsible Conduct of Resear...</td>\n",
       "      <td>2023-06-10</td>\n",
       "      <td>NaT</td>\n",
       "      <td>Jadon Harrell</td>\n",
       "    </tr>\n",
       "    <tr>\n",
       "      <th>2963</th>\n",
       "      <td>Animal Care And Use Risk Assessment</td>\n",
       "      <td>2023-08-22</td>\n",
       "      <td>2024-08-21</td>\n",
       "      <td>Jadon Harrell</td>\n",
       "    </tr>\n",
       "    <tr>\n",
       "      <th>2964</th>\n",
       "      <td>OHS Training</td>\n",
       "      <td>2022-03-14</td>\n",
       "      <td>2023-03-14</td>\n",
       "      <td>Jadon Harrell</td>\n",
       "    </tr>\n",
       "    <tr>\n",
       "      <th>2965</th>\n",
       "      <td>Occupational Exposure to Bloodborne Pathogens</td>\n",
       "      <td>2022-11-03</td>\n",
       "      <td>2023-11-03</td>\n",
       "      <td>Jadon Harrell</td>\n",
       "    </tr>\n",
       "    <tr>\n",
       "      <th>2966</th>\n",
       "      <td>Occupational Exposure to Bloodborne Pathogens</td>\n",
       "      <td>2022-02-05</td>\n",
       "      <td>NaT</td>\n",
       "      <td>Jadon Harrell</td>\n",
       "    </tr>\n",
       "  </tbody>\n",
       "</table>\n",
       "<p>2967 rows × 4 columns</p>\n",
       "</div>"
      ],
      "text/plain": [
       "                                          training_name training_timestamp  \\\n",
       "0                            Electrical Safety for Labs         2022-08-31   \n",
       "1     Safe Handling of Human Cell Lines/Materials in...         2023-10-30   \n",
       "2     Awareness Training for the Transport of Hazard...         2023-10-05   \n",
       "3                                          X-Ray Safety         2023-04-08   \n",
       "4                                          X-Ray Safety         2022-09-01   \n",
       "...                                                 ...                ...   \n",
       "2962  Physical Science Responsible Conduct of Resear...         2023-06-10   \n",
       "2963                Animal Care And Use Risk Assessment         2023-08-22   \n",
       "2964                                       OHS Training         2022-03-14   \n",
       "2965      Occupational Exposure to Bloodborne Pathogens         2022-11-03   \n",
       "2966      Occupational Exposure to Bloodborne Pathogens         2022-02-05   \n",
       "\n",
       "     training_expires           name  \n",
       "0                 NaT   Jaelyn Quinn  \n",
       "1                 NaT   Jaelyn Quinn  \n",
       "2                 NaT   Jaelyn Quinn  \n",
       "3                 NaT   Jaelyn Quinn  \n",
       "4                 NaT      Asia Duke  \n",
       "...               ...            ...  \n",
       "2962              NaT  Jadon Harrell  \n",
       "2963       2024-08-21  Jadon Harrell  \n",
       "2964       2023-03-14  Jadon Harrell  \n",
       "2965       2023-11-03  Jadon Harrell  \n",
       "2966              NaT  Jadon Harrell  \n",
       "\n",
       "[2967 rows x 4 columns]"
      ]
     },
     "execution_count": 12,
     "metadata": {},
     "output_type": "execute_result"
    }
   ],
   "source": [
    "expiration_date = datetime(2023, 10, 1)\n",
    "within_one_month = datetime(2023, 9, 1)\n",
    "# Convert 'traning_expires' to datetime format\n",
    "df['training_expires'] = pd.to_datetime(df['training_expires'], format=\"%m/%d/%Y\")\n",
    "df"
   ]
  },
  {
   "cell_type": "code",
   "execution_count": 13,
   "metadata": {},
   "outputs": [
    {
     "data": {
      "text/html": [
       "<div>\n",
       "<style scoped>\n",
       "    .dataframe tbody tr th:only-of-type {\n",
       "        vertical-align: middle;\n",
       "    }\n",
       "\n",
       "    .dataframe tbody tr th {\n",
       "        vertical-align: top;\n",
       "    }\n",
       "\n",
       "    .dataframe thead th {\n",
       "        text-align: right;\n",
       "    }\n",
       "</style>\n",
       "<table border=\"1\" class=\"dataframe\">\n",
       "  <thead>\n",
       "    <tr style=\"text-align: right;\">\n",
       "      <th></th>\n",
       "      <th>training_name</th>\n",
       "      <th>training_timestamp</th>\n",
       "      <th>training_expires</th>\n",
       "      <th>name</th>\n",
       "    </tr>\n",
       "  </thead>\n",
       "  <tbody>\n",
       "    <tr>\n",
       "      <th>38</th>\n",
       "      <td>Using Hazardous Chemicals in an Animal Care Fa...</td>\n",
       "      <td>2022-09-01</td>\n",
       "      <td>2023-09-01</td>\n",
       "      <td>Muhammad Kaufman</td>\n",
       "    </tr>\n",
       "    <tr>\n",
       "      <th>43</th>\n",
       "      <td>IRB Quiz</td>\n",
       "      <td>2022-01-20</td>\n",
       "      <td>2023-01-20</td>\n",
       "      <td>Lexie Mckinney</td>\n",
       "    </tr>\n",
       "    <tr>\n",
       "      <th>45</th>\n",
       "      <td>Safe Handling of Human Cell Lines/Materials in...</td>\n",
       "      <td>2022-08-10</td>\n",
       "      <td>2023-08-10</td>\n",
       "      <td>Gretchen Boyer</td>\n",
       "    </tr>\n",
       "    <tr>\n",
       "      <th>49</th>\n",
       "      <td>Awareness Training for the Transport of Hazard...</td>\n",
       "      <td>2022-06-27</td>\n",
       "      <td>2023-06-27</td>\n",
       "      <td>Denise Allen</td>\n",
       "    </tr>\n",
       "    <tr>\n",
       "      <th>52</th>\n",
       "      <td>Understanding Biosafety</td>\n",
       "      <td>2022-01-29</td>\n",
       "      <td>2023-01-29</td>\n",
       "      <td>Denise Allen</td>\n",
       "    </tr>\n",
       "    <tr>\n",
       "      <th>...</th>\n",
       "      <td>...</td>\n",
       "      <td>...</td>\n",
       "      <td>...</td>\n",
       "      <td>...</td>\n",
       "    </tr>\n",
       "    <tr>\n",
       "      <th>2900</th>\n",
       "      <td>Transportation of Infectious Substances, Categ...</td>\n",
       "      <td>2022-02-23</td>\n",
       "      <td>2023-02-23</td>\n",
       "      <td>Julien Terrell</td>\n",
       "    </tr>\n",
       "    <tr>\n",
       "      <th>2911</th>\n",
       "      <td>Basic Training Program for Animal Users</td>\n",
       "      <td>2022-09-04</td>\n",
       "      <td>2023-09-04</td>\n",
       "      <td>John Montes</td>\n",
       "    </tr>\n",
       "    <tr>\n",
       "      <th>2913</th>\n",
       "      <td>Radioactive Materials Safety Training</td>\n",
       "      <td>2022-03-15</td>\n",
       "      <td>2023-03-15</td>\n",
       "      <td>John Montes</td>\n",
       "    </tr>\n",
       "    <tr>\n",
       "      <th>2940</th>\n",
       "      <td>Working in Cold Temperatures</td>\n",
       "      <td>2022-08-27</td>\n",
       "      <td>2023-08-27</td>\n",
       "      <td>Camden Ho</td>\n",
       "    </tr>\n",
       "    <tr>\n",
       "      <th>2964</th>\n",
       "      <td>OHS Training</td>\n",
       "      <td>2022-03-14</td>\n",
       "      <td>2023-03-14</td>\n",
       "      <td>Jadon Harrell</td>\n",
       "    </tr>\n",
       "  </tbody>\n",
       "</table>\n",
       "<p>416 rows × 4 columns</p>\n",
       "</div>"
      ],
      "text/plain": [
       "                                          training_name training_timestamp  \\\n",
       "38    Using Hazardous Chemicals in an Animal Care Fa...         2022-09-01   \n",
       "43                                             IRB Quiz         2022-01-20   \n",
       "45    Safe Handling of Human Cell Lines/Materials in...         2022-08-10   \n",
       "49    Awareness Training for the Transport of Hazard...         2022-06-27   \n",
       "52                              Understanding Biosafety         2022-01-29   \n",
       "...                                                 ...                ...   \n",
       "2900  Transportation of Infectious Substances, Categ...         2022-02-23   \n",
       "2911            Basic Training Program for Animal Users         2022-09-04   \n",
       "2913              Radioactive Materials Safety Training         2022-03-15   \n",
       "2940                       Working in Cold Temperatures         2022-08-27   \n",
       "2964                                       OHS Training         2022-03-14   \n",
       "\n",
       "     training_expires              name  \n",
       "38         2023-09-01  Muhammad Kaufman  \n",
       "43         2023-01-20    Lexie Mckinney  \n",
       "45         2023-08-10    Gretchen Boyer  \n",
       "49         2023-06-27      Denise Allen  \n",
       "52         2023-01-29      Denise Allen  \n",
       "...               ...               ...  \n",
       "2900       2023-02-23    Julien Terrell  \n",
       "2911       2023-09-04       John Montes  \n",
       "2913       2023-03-15       John Montes  \n",
       "2940       2023-08-27         Camden Ho  \n",
       "2964       2023-03-14     Jadon Harrell  \n",
       "\n",
       "[416 rows x 4 columns]"
      ]
     },
     "execution_count": 13,
     "metadata": {},
     "output_type": "execute_result"
    }
   ],
   "source": [
    "df_expire = df[(df['training_expires'] < expiration_date) | \n",
    "        ((df['training_expires'] >= within_one_month) & (df['training_expires'] < expiration_date))]\n",
    "df_expire"
   ]
  },
  {
   "cell_type": "code",
   "execution_count": 14,
   "metadata": {},
   "outputs": [
    {
     "name": "stderr",
     "output_type": "stream",
     "text": [
      "/var/folders/hd/1_05khmx18g4v9p82m039_9c0000gn/T/ipykernel_64964/2322672614.py:2: SettingWithCopyWarning: \n",
      "A value is trying to be set on a copy of a slice from a DataFrame.\n",
      "Try using .loc[row_indexer,col_indexer] = value instead\n",
      "\n",
      "See the caveats in the documentation: https://pandas.pydata.org/pandas-docs/stable/user_guide/indexing.html#returning-a-view-versus-a-copy\n",
      "  df_expire['status'] = df_expire['training_expires'].apply(\n"
     ]
    }
   ],
   "source": [
    "# Add a new column to indicate expired vs expires soon\n",
    "df_expire['status'] = df_expire['training_expires'].apply(\n",
    "    lambda x: 'expired' if x < expiration_date else 'expires soon'\n",
    ")\n",
    "\n",
    "# Group by person and list each completed training with the status\n",
    "result_3 = df_expire.groupby('name').apply(\n",
    "    lambda x: x[['training_name', 'status']].to_dict(orient='records')\n",
    ").to_dict()\n",
    "\n",
    "with open('output_3_expired_or_expires_soon.json', 'w') as outfile:\n",
    "    json.dump(result_3, outfile, indent=4)"
   ]
  },
  {
   "cell_type": "code",
   "execution_count": null,
   "metadata": {},
   "outputs": [],
   "source": []
  }
 ],
 "metadata": {
  "kernelspec": {
   "display_name": "Python 3",
   "language": "python",
   "name": "python3"
  },
  "language_info": {
   "codemirror_mode": {
    "name": "ipython",
    "version": 3
   },
   "file_extension": ".py",
   "mimetype": "text/x-python",
   "name": "python",
   "nbconvert_exporter": "python",
   "pygments_lexer": "ipython3",
   "version": "3.11.1"
  }
 },
 "nbformat": 4,
 "nbformat_minor": 0
}
